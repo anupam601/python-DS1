{
 "cells": [
  {
   "cell_type": "code",
   "execution_count": 1,
   "metadata": {},
   "outputs": [
    {
     "name": "stdout",
     "output_type": "stream",
     "text": [
      "24\n",
      "0\n",
      "1.0\n",
      "0\n",
      "144\n"
     ]
    }
   ],
   "source": [
    "num1 = int(input(\"Enter your number: \"))\n",
    "num2 = int(input(\"Enter your number: \"))\n",
    "# total = num1+num2\n",
    "print(num1+num2)\n",
    "print(num1-num2)\n",
    "print(num1/num2)\n",
    "print(num1//num2)\n",
    "print(num1%num2)\n",
    "print(num1*num2)\n",
    "print(num1**num2)\n"
   ]
  }
 ],
 "metadata": {
  "kernelspec": {
   "display_name": "Python 3",
   "language": "python",
   "name": "python3"
  },
  "language_info": {
   "codemirror_mode": {
    "name": "ipython",
    "version": 3
   },
   "file_extension": ".py",
   "mimetype": "text/x-python",
   "name": "python",
   "nbconvert_exporter": "python",
   "pygments_lexer": "ipython3",
   "version": "3.10.2"
  },
  "orig_nbformat": 4,
  "vscode": {
   "interpreter": {
    "hash": "e88493c9e6ba49695d3b10c1d5aba168102b468883c37879860469988aa8b2ea"
   }
  }
 },
 "nbformat": 4,
 "nbformat_minor": 2
}
